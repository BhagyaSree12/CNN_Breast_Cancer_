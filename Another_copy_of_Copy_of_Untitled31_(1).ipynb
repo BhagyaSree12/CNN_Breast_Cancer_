{
  "nbformat": 4,
  "nbformat_minor": 0,
  "metadata": {
    "colab": {
      "provenance": [],
      "gpuType": "T4",
      "include_colab_link": true
    },
    "kernelspec": {
      "name": "python3",
      "display_name": "Python 3"
    },
    "language_info": {
      "name": "python"
    },
    "accelerator": "GPU"
  },
  "cells": [
    {
      "cell_type": "markdown",
      "metadata": {
        "id": "view-in-github",
        "colab_type": "text"
      },
      "source": [
        "<a href=\"https://colab.research.google.com/github/BhagyaSree12/CNN_Breast_Cancer_/blob/main/Another_copy_of_Copy_of_Untitled31_(1).ipynb\" target=\"_parent\"><img src=\"https://colab.research.google.com/assets/colab-badge.svg\" alt=\"Open In Colab\"/></a>"
      ]
    },
    {
      "cell_type": "code",
      "execution_count": 17,
      "metadata": {
        "colab": {
          "base_uri": "https://localhost:8080/"
        },
        "id": "aYysqtiAEhPm",
        "outputId": "1fd45af8-91a0-40c2-f08d-4c06d4047bec"
      },
      "outputs": [
        {
          "output_type": "stream",
          "name": "stdout",
          "text": [
            "Drive already mounted at /content/drive; to attempt to forcibly remount, call drive.mount(\"/content/drive\", force_remount=True).\n"
          ]
        }
      ],
      "source": [
        "from google.colab import drive\n",
        "drive.mount('/content/drive')"
      ]
    },
    {
      "cell_type": "code",
      "source": [
        "import os\n",
        "import shutil\n",
        "os.listdir(\"/content/drive/MyDrive/breast_cancer/Breast Cancer Patients MRI's\")"
      ],
      "metadata": {
        "colab": {
          "base_uri": "https://localhost:8080/"
        },
        "id": "jo0Udl_fElGq",
        "outputId": "f77a94e1-dd18-48d2-e997-2d363a3b4b44"
      },
      "execution_count": 18,
      "outputs": [
        {
          "output_type": "execute_result",
          "data": {
            "text/plain": [
              "['train', 'validation']"
            ]
          },
          "metadata": {},
          "execution_count": 18
        }
      ]
    },
    {
      "cell_type": "code",
      "source": [
        "import os\n",
        "import cv2\n",
        "import matplotlib.pyplot as plt\n",
        "from PIL import Image\n",
        "import tensorflow as tf\n",
        "from keras import backend as K\n",
        "from keras.models import load_model\n",
        "from keras.preprocessing.image import img_to_array\n",
        "from tensorflow.keras.optimizers import Adam, RMSprop\n",
        "from tensorflow.keras.callbacks import ReduceLROnPlateau\n",
        "from tensorflow.keras.preprocessing.image import ImageDataGenerator"
      ],
      "metadata": {
        "id": "m84Nk-fSE2PG"
      },
      "execution_count": 19,
      "outputs": []
    },
    {
      "cell_type": "code",
      "source": [
        "IMG_SHAPE  = 224\n",
        "batch_size = 32"
      ],
      "metadata": {
        "id": "zwONLym9E4CU"
      },
      "execution_count": 20,
      "outputs": []
    },
    {
      "cell_type": "markdown",
      "source": [
        "without vgg16"
      ],
      "metadata": {
        "id": "K2BXAcBXjo6w"
      }
    },
    {
      "cell_type": "code",
      "source": [
        "from tensorflow import keras\n",
        "\n",
        "base_model = keras.applications.VGG16(\n",
        "    weights='imagenet',  # Load weights pre-trained on ImageNet.\n",
        "    input_shape=(224, 224, 3),\n",
        "    include_top=False)\n",
        "\n",
        "base_model.summary()\n",
        "\n",
        "base_model.trainable = False\n",
        "\n",
        "inputs = keras.Input(shape=(224, 224, 3))\n",
        "# Separately from setting trainable on the model, we set training to False\n",
        "x = base_model(inputs, training=False)\n",
        "x = keras.layers.GlobalAveragePooling2D()(x)\n",
        "# A Dense classifier with a single unit (binary classification)\n",
        "outputs = keras.layers.Dense(1)(x)\n",
        "model = keras.Model(inputs, outputs)\n",
        "\n",
        "model.summary()"
      ],
      "metadata": {
        "colab": {
          "base_uri": "https://localhost:8080/"
        },
        "id": "-vu819QvFANv",
        "outputId": "cc875394-cc00-49dc-f471-eab1d9a5bb84"
      },
      "execution_count": 21,
      "outputs": [
        {
          "output_type": "stream",
          "name": "stdout",
          "text": [
            "Model: \"vgg16\"\n",
            "_________________________________________________________________\n",
            " Layer (type)                Output Shape              Param #   \n",
            "=================================================================\n",
            " input_10 (InputLayer)       [(None, 224, 224, 3)]     0         \n",
            "                                                                 \n",
            " block1_conv1 (Conv2D)       (None, 224, 224, 64)      1792      \n",
            "                                                                 \n",
            " block1_conv2 (Conv2D)       (None, 224, 224, 64)      36928     \n",
            "                                                                 \n",
            " block1_pool (MaxPooling2D)  (None, 112, 112, 64)      0         \n",
            "                                                                 \n",
            " block2_conv1 (Conv2D)       (None, 112, 112, 128)     73856     \n",
            "                                                                 \n",
            " block2_conv2 (Conv2D)       (None, 112, 112, 128)     147584    \n",
            "                                                                 \n",
            " block2_pool (MaxPooling2D)  (None, 56, 56, 128)       0         \n",
            "                                                                 \n",
            " block3_conv1 (Conv2D)       (None, 56, 56, 256)       295168    \n",
            "                                                                 \n",
            " block3_conv2 (Conv2D)       (None, 56, 56, 256)       590080    \n",
            "                                                                 \n",
            " block3_conv3 (Conv2D)       (None, 56, 56, 256)       590080    \n",
            "                                                                 \n",
            " block3_pool (MaxPooling2D)  (None, 28, 28, 256)       0         \n",
            "                                                                 \n",
            " block4_conv1 (Conv2D)       (None, 28, 28, 512)       1180160   \n",
            "                                                                 \n",
            " block4_conv2 (Conv2D)       (None, 28, 28, 512)       2359808   \n",
            "                                                                 \n",
            " block4_conv3 (Conv2D)       (None, 28, 28, 512)       2359808   \n",
            "                                                                 \n",
            " block4_pool (MaxPooling2D)  (None, 14, 14, 512)       0         \n",
            "                                                                 \n",
            " block5_conv1 (Conv2D)       (None, 14, 14, 512)       2359808   \n",
            "                                                                 \n",
            " block5_conv2 (Conv2D)       (None, 14, 14, 512)       2359808   \n",
            "                                                                 \n",
            " block5_conv3 (Conv2D)       (None, 14, 14, 512)       2359808   \n",
            "                                                                 \n",
            " block5_pool (MaxPooling2D)  (None, 7, 7, 512)         0         \n",
            "                                                                 \n",
            "=================================================================\n",
            "Total params: 14714688 (56.13 MB)\n",
            "Trainable params: 14714688 (56.13 MB)\n",
            "Non-trainable params: 0 (0.00 Byte)\n",
            "_________________________________________________________________\n",
            "Model: \"model_3\"\n",
            "_________________________________________________________________\n",
            " Layer (type)                Output Shape              Param #   \n",
            "=================================================================\n",
            " input_11 (InputLayer)       [(None, 224, 224, 3)]     0         \n",
            "                                                                 \n",
            " vgg16 (Functional)          (None, 7, 7, 512)         14714688  \n",
            "                                                                 \n",
            " global_average_pooling2d_1  (None, 512)               0         \n",
            "  (GlobalAveragePooling2D)                                       \n",
            "                                                                 \n",
            " dense_3 (Dense)             (None, 1)                 513       \n",
            "                                                                 \n",
            "=================================================================\n",
            "Total params: 14715201 (56.13 MB)\n",
            "Trainable params: 513 (2.00 KB)\n",
            "Non-trainable params: 14714688 (56.13 MB)\n",
            "_________________________________________________________________\n"
          ]
        }
      ]
    },
    {
      "cell_type": "code",
      "source": [
        "model.compile(loss=keras.losses.BinaryCrossentropy(from_logits=True), metrics=[keras.metrics.BinaryAccuracy()])\n",
        "\n",
        "\n",
        "from tensorflow.keras.preprocessing.image import ImageDataGenerator\n",
        "# create a data generator\n",
        "datagen = ImageDataGenerator(\n",
        "        samplewise_center=True,  # set each sample mean to 0\n",
        "        rotation_range=10,  # randomly rotate images in the range (degrees, 0 to 180)\n",
        "        zoom_range = 0.1, # Randomly zoom image\n",
        "        width_shift_range=0.1,  # randomly shift images horizontally (fraction of total width)\n",
        "        height_shift_range=0.1,  # randomly shift images vertically (fraction of total height)\n",
        "        horizontal_flip=True,  # randomly flip images\n",
        "        vertical_flip=False) # we don't expect Bo to be upside-down so we will not flip vertically\n",
        "\n",
        "# load and iterate training dataset\n",
        "train_it = datagen.flow_from_directory(\"/content/drive/MyDrive/breast_cancer/Breast Cancer Patients MRI's/train\",\n",
        "                                       target_size=(224, 224),\n",
        "                                       color_mode='rgb',\n",
        "                                       class_mode='binary',\n",
        "                                       batch_size=8)\n",
        "# load and iterate validation dataset\n",
        "valid_it = datagen.flow_from_directory(\"/content/drive/MyDrive/breast_cancer/Breast Cancer Patients MRI's/validation\",\n",
        "                                      target_size=(224, 224),\n",
        "                                      color_mode='rgb',\n",
        "                                      class_mode='binary',\n",
        "                                      batch_size=8)\n",
        "\n",
        "h1= model.fit(train_it, steps_per_epoch=12, validation_data=valid_it, validation_steps=4, workers=10, epochs=20)"
      ],
      "metadata": {
        "colab": {
          "base_uri": "https://localhost:8080/"
        },
        "id": "MhCbm1x8FCy0",
        "outputId": "03f499a0-8a0d-4602-9efd-c10221dac906"
      },
      "execution_count": 22,
      "outputs": [
        {
          "output_type": "stream",
          "name": "stdout",
          "text": [
            "Found 1410 images belonging to 2 classes.\n",
            "Found 80 images belonging to 2 classes.\n",
            "Epoch 1/20\n",
            "12/12 [==============================] - 5s 235ms/step - loss: 1.7782 - binary_accuracy: 0.4479 - val_loss: 2.7560 - val_binary_accuracy: 0.3438\n",
            "Epoch 2/20\n",
            "12/12 [==============================] - 7s 570ms/step - loss: 1.1557 - binary_accuracy: 0.4688 - val_loss: 1.5646 - val_binary_accuracy: 0.3438\n",
            "Epoch 3/20\n",
            "12/12 [==============================] - 3s 221ms/step - loss: 0.9943 - binary_accuracy: 0.5556 - val_loss: 1.4197 - val_binary_accuracy: 0.3125\n",
            "Epoch 4/20\n",
            "12/12 [==============================] - 4s 264ms/step - loss: 1.0951 - binary_accuracy: 0.5000 - val_loss: 1.5248 - val_binary_accuracy: 0.3438\n",
            "Epoch 5/20\n",
            "12/12 [==============================] - 5s 271ms/step - loss: 1.0557 - binary_accuracy: 0.4271 - val_loss: 1.6781 - val_binary_accuracy: 0.3125\n",
            "Epoch 6/20\n",
            "12/12 [==============================] - 4s 240ms/step - loss: 1.0165 - binary_accuracy: 0.4688 - val_loss: 1.8057 - val_binary_accuracy: 0.3125\n",
            "Epoch 7/20\n",
            "12/12 [==============================] - 7s 579ms/step - loss: 1.3185 - binary_accuracy: 0.3229 - val_loss: 1.4133 - val_binary_accuracy: 0.3750\n",
            "Epoch 8/20\n",
            "12/12 [==============================] - 4s 324ms/step - loss: 0.8408 - binary_accuracy: 0.5729 - val_loss: 1.2058 - val_binary_accuracy: 0.4688\n",
            "Epoch 9/20\n",
            "12/12 [==============================] - 6s 360ms/step - loss: 0.5811 - binary_accuracy: 0.7111 - val_loss: 1.0239 - val_binary_accuracy: 0.4375\n",
            "Epoch 10/20\n",
            "12/12 [==============================] - 4s 260ms/step - loss: 0.9148 - binary_accuracy: 0.5104 - val_loss: 1.2306 - val_binary_accuracy: 0.3438\n",
            "Epoch 11/20\n",
            "12/12 [==============================] - 6s 417ms/step - loss: 0.7428 - binary_accuracy: 0.6042 - val_loss: 1.0744 - val_binary_accuracy: 0.3750\n",
            "Epoch 12/20\n",
            "12/12 [==============================] - 5s 349ms/step - loss: 0.8538 - binary_accuracy: 0.5729 - val_loss: 1.3135 - val_binary_accuracy: 0.3750\n",
            "Epoch 13/20\n",
            "12/12 [==============================] - 4s 302ms/step - loss: 0.7425 - binary_accuracy: 0.6250 - val_loss: 1.1531 - val_binary_accuracy: 0.4062\n",
            "Epoch 14/20\n",
            "12/12 [==============================] - 6s 381ms/step - loss: 0.7227 - binary_accuracy: 0.6458 - val_loss: 1.6757 - val_binary_accuracy: 0.4062\n",
            "Epoch 15/20\n",
            "12/12 [==============================] - 5s 332ms/step - loss: 0.6459 - binary_accuracy: 0.6458 - val_loss: 1.5535 - val_binary_accuracy: 0.4062\n",
            "Epoch 16/20\n",
            "12/12 [==============================] - 3s 214ms/step - loss: 0.8679 - binary_accuracy: 0.5521 - val_loss: 1.8065 - val_binary_accuracy: 0.4062\n",
            "Epoch 17/20\n",
            "12/12 [==============================] - 8s 649ms/step - loss: 0.5751 - binary_accuracy: 0.7083 - val_loss: 1.3381 - val_binary_accuracy: 0.4375\n",
            "Epoch 18/20\n",
            "12/12 [==============================] - 4s 244ms/step - loss: 0.6251 - binary_accuracy: 0.6562 - val_loss: 1.4690 - val_binary_accuracy: 0.2500\n",
            "Epoch 19/20\n",
            "12/12 [==============================] - 3s 225ms/step - loss: 0.6575 - binary_accuracy: 0.6111 - val_loss: 1.7236 - val_binary_accuracy: 0.4375\n",
            "Epoch 20/20\n",
            "12/12 [==============================] - 6s 445ms/step - loss: 0.6968 - binary_accuracy: 0.6354 - val_loss: 1.4528 - val_binary_accuracy: 0.3750\n"
          ]
        }
      ]
    },
    {
      "cell_type": "markdown",
      "source": [
        "with vgg16"
      ],
      "metadata": {
        "id": "ZjoE2jszkLuq"
      }
    },
    {
      "cell_type": "code",
      "source": [
        "# Unfreeze the base model\n",
        "base_model.trainable = True\n",
        "\n",
        "# It's important to recompile your model after you make any changes\n",
        "# to the `trainable` attribute of any inner layer, so that your changes\n",
        "# are taken into account\n",
        "model.compile(optimizer=keras.optimizers.RMSprop(learning_rate = .000001),  # Very low learning rate\n",
        "              loss=keras.losses.BinaryCrossentropy(from_logits=True),\n",
        "              metrics=['accuracy','Precision','Recall','AUC'])\n",
        "\n",
        "history = model.fit(train_it, steps_per_epoch=12, validation_data=valid_it, validation_steps=4, workers=10, epochs=20)"
      ],
      "metadata": {
        "colab": {
          "base_uri": "https://localhost:8080/"
        },
        "id": "zRNRwM7rFLVq",
        "outputId": "7e506ff3-3dbc-45e3-c7c9-f6f7a68817a6"
      },
      "execution_count": 23,
      "outputs": [
        {
          "output_type": "stream",
          "name": "stdout",
          "text": [
            "Epoch 1/20\n",
            "12/12 [==============================] - 8s 311ms/step - loss: 0.6239 - accuracy: 0.6458 - precision: 0.6757 - recall: 0.5319 - auc: 0.6719 - val_loss: 1.5435 - val_accuracy: 0.4375 - val_precision: 0.5294 - val_recall: 0.4737 - val_auc: 0.3623\n",
            "Epoch 2/20\n",
            "12/12 [==============================] - 4s 253ms/step - loss: 0.6234 - accuracy: 0.6875 - precision: 0.7407 - recall: 0.4651 - auc: 0.7080 - val_loss: 1.5586 - val_accuracy: 0.3750 - val_precision: 0.3636 - val_recall: 0.2353 - val_auc: 0.2843\n",
            "Epoch 3/20\n",
            "12/12 [==============================] - 4s 264ms/step - loss: 0.6429 - accuracy: 0.6146 - precision: 0.6500 - recall: 0.5306 - auc: 0.6615 - val_loss: 1.5482 - val_accuracy: 0.4688 - val_precision: 0.5333 - val_recall: 0.4444 - val_auc: 0.4484\n",
            "Epoch 4/20\n",
            "12/12 [==============================] - 5s 309ms/step - loss: 0.6524 - accuracy: 0.7083 - precision: 0.7353 - recall: 0.5682 - auc: 0.7183 - val_loss: 1.5147 - val_accuracy: 0.4062 - val_precision: 0.3333 - val_recall: 0.3571 - val_auc: 0.3671\n",
            "Epoch 5/20\n",
            "12/12 [==============================] - 4s 243ms/step - loss: 0.6001 - accuracy: 0.6771 - precision: 0.7879 - recall: 0.5200 - auc: 0.7300 - val_loss: 1.9442 - val_accuracy: 0.3438 - val_precision: 0.3684 - val_recall: 0.4375 - val_auc: 0.3164\n",
            "Epoch 6/20\n",
            "12/12 [==============================] - 4s 266ms/step - loss: 0.5110 - accuracy: 0.7708 - precision: 0.8333 - recall: 0.7000 - auc: 0.8000 - val_loss: 1.4655 - val_accuracy: 0.2188 - val_precision: 0.2500 - val_recall: 0.2353 - val_auc: 0.2118\n",
            "Epoch 7/20\n",
            "12/12 [==============================] - 5s 269ms/step - loss: 0.4756 - accuracy: 0.7812 - precision: 0.9062 - recall: 0.6170 - auc: 0.8259 - val_loss: 1.5531 - val_accuracy: 0.4062 - val_precision: 0.2667 - val_recall: 0.3333 - val_auc: 0.4062\n",
            "Epoch 8/20\n",
            "12/12 [==============================] - 4s 254ms/step - loss: 0.6768 - accuracy: 0.6354 - precision: 0.6923 - recall: 0.5400 - auc: 0.6702 - val_loss: 1.5183 - val_accuracy: 0.2500 - val_precision: 0.2000 - val_recall: 0.2000 - val_auc: 0.2569\n",
            "Epoch 9/20\n",
            "12/12 [==============================] - 5s 375ms/step - loss: 0.5283 - accuracy: 0.7111 - precision: 0.8056 - recall: 0.6042 - auc: 0.7684 - val_loss: 1.7066 - val_accuracy: 0.3438 - val_precision: 0.2308 - val_recall: 0.2143 - val_auc: 0.2798\n",
            "Epoch 10/20\n",
            "12/12 [==============================] - 5s 265ms/step - loss: 0.5439 - accuracy: 0.7083 - precision: 0.6944 - recall: 0.5952 - auc: 0.7262 - val_loss: 1.3889 - val_accuracy: 0.3750 - val_precision: 0.3333 - val_recall: 0.2500 - val_auc: 0.3672\n",
            "Epoch 11/20\n",
            "12/12 [==============================] - 4s 265ms/step - loss: 0.5906 - accuracy: 0.6771 - precision: 0.7667 - recall: 0.4894 - auc: 0.7217 - val_loss: 1.2722 - val_accuracy: 0.4062 - val_precision: 0.3571 - val_recall: 0.3333 - val_auc: 0.4137\n",
            "Epoch 12/20\n",
            "12/12 [==============================] - 5s 381ms/step - loss: 0.4050 - accuracy: 0.8229 - precision: 0.8780 - recall: 0.7500 - auc: 0.8550 - val_loss: 1.0056 - val_accuracy: 0.4688 - val_precision: 0.4375 - val_recall: 0.4667 - val_auc: 0.5078\n",
            "Epoch 13/20\n",
            "12/12 [==============================] - 5s 252ms/step - loss: 0.4866 - accuracy: 0.7708 - precision: 0.8140 - recall: 0.7143 - auc: 0.7985 - val_loss: 1.7070 - val_accuracy: 0.3438 - val_precision: 0.2857 - val_recall: 0.2667 - val_auc: 0.2549\n",
            "Epoch 14/20\n",
            "12/12 [==============================] - 4s 255ms/step - loss: 0.4571 - accuracy: 0.7500 - precision: 0.7879 - recall: 0.6047 - auc: 0.7824 - val_loss: 1.6414 - val_accuracy: 0.2812 - val_precision: 0.2857 - val_recall: 0.2353 - val_auc: 0.2647\n",
            "Epoch 15/20\n",
            "12/12 [==============================] - 5s 363ms/step - loss: 0.4753 - accuracy: 0.7917 - precision: 0.8462 - recall: 0.5789 - auc: 0.7790 - val_loss: 1.5365 - val_accuracy: 0.3750 - val_precision: 0.4615 - val_recall: 0.3158 - val_auc: 0.2935\n",
            "Epoch 16/20\n",
            "12/12 [==============================] - 5s 267ms/step - loss: 0.4687 - accuracy: 0.7500 - precision: 0.8333 - recall: 0.6250 - auc: 0.8162 - val_loss: 2.1029 - val_accuracy: 0.2188 - val_precision: 0.2273 - val_recall: 0.3846 - val_auc: 0.2490\n",
            "Epoch 17/20\n",
            "12/12 [==============================] - 4s 270ms/step - loss: 0.4232 - accuracy: 0.7917 - precision: 0.8837 - recall: 0.7170 - auc: 0.8629 - val_loss: 1.3141 - val_accuracy: 0.5000 - val_precision: 0.4762 - val_recall: 0.6667 - val_auc: 0.5333\n",
            "Epoch 18/20\n",
            "12/12 [==============================] - 5s 395ms/step - loss: 0.5452 - accuracy: 0.7500 - precision: 0.8182 - recall: 0.6923 - auc: 0.7764 - val_loss: 2.0340 - val_accuracy: 0.3750 - val_precision: 0.3571 - val_recall: 0.3125 - val_auc: 0.3066\n",
            "Epoch 19/20\n",
            "12/12 [==============================] - 4s 245ms/step - loss: 0.4173 - accuracy: 0.8229 - precision: 0.8718 - recall: 0.7391 - auc: 0.8683 - val_loss: 1.4936 - val_accuracy: 0.2812 - val_precision: 0.3333 - val_recall: 0.2105 - val_auc: 0.2996\n",
            "Epoch 20/20\n",
            "12/12 [==============================] - 4s 243ms/step - loss: 0.4447 - accuracy: 0.8125 - precision: 0.8286 - recall: 0.7073 - auc: 0.8302 - val_loss: 1.4113 - val_accuracy: 0.4688 - val_precision: 0.3750 - val_recall: 0.4615 - val_auc: 0.4291\n"
          ]
        }
      ]
    },
    {
      "cell_type": "code",
      "source": [
        "import pandas as pd\n",
        "import numpy as np\n",
        "import keras\n",
        "from keras.layers import Dense, GlobalAveragePooling2D, Dropout, Flatten\n",
        "from tensorflow.keras.optimizers import Adam, RMSprop\n",
        "from tensorflow.keras.applications.resnet50 import ResNet50\n",
        "from keras.preprocessing import image\n",
        "from keras.models import Model\n"
      ],
      "metadata": {
        "id": "9L2BRrKpNmSh"
      },
      "execution_count": 24,
      "outputs": []
    },
    {
      "cell_type": "code",
      "source": [
        "\n",
        "import os\n",
        "import cv2\n",
        "import matplotlib.pyplot as plt\n",
        "from PIL import Image\n",
        "import tensorflow as tf\n",
        "from keras import backend as K\n",
        "from keras.models import load_model\n",
        "from keras.preprocessing.image import img_to_array\n",
        "from tensorflow.keras.optimizers import Adam, RMSprop\n",
        "from tensorflow.keras.callbacks import ReduceLROnPlateau\n",
        "from tensorflow.keras.preprocessing.image import ImageDataGenerator"
      ],
      "metadata": {
        "id": "vZisq4jHiAZm"
      },
      "execution_count": 25,
      "outputs": []
    },
    {
      "cell_type": "code",
      "source": [
        "IMG_SHAPE  = 224\n",
        "batch_size = 32"
      ],
      "metadata": {
        "id": "YhCokTr5iCsU"
      },
      "execution_count": 26,
      "outputs": []
    },
    {
      "cell_type": "markdown",
      "source": [
        "resnet50"
      ],
      "metadata": {
        "id": "ac3pAINakRcR"
      }
    },
    {
      "cell_type": "code",
      "source": [
        "from tensorflow.keras.applications import ResNet50\n",
        "\n",
        "base_model = ResNet50(weights='imagenet', include_top=False, input_shape=(224, 224, 3))\n",
        "base_model.trainable = True\n",
        "\n",
        "model.compile(optimizer=keras.optimizers.RMSprop(learning_rate=0.000001),\n",
        "              loss=keras.losses.BinaryCrossentropy(from_logits=True),\n",
        "              metrics=['accuracy','Precision','Recall','AUC'])\n",
        "history = model.fit(train_it, steps_per_epoch=12, validation_data=valid_it, validation_steps=4, workers=10, epochs=50)\n"
      ],
      "metadata": {
        "colab": {
          "base_uri": "https://localhost:8080/"
        },
        "id": "eQK9nBdWiEXK",
        "outputId": "07a6263c-b6b7-4a4c-86e3-fa93832ff771"
      },
      "execution_count": 27,
      "outputs": [
        {
          "output_type": "stream",
          "name": "stdout",
          "text": [
            "Epoch 1/50\n",
            "12/12 [==============================] - 7s 297ms/step - loss: 0.4447 - accuracy: 0.8021 - precision: 0.8529 - recall: 0.6744 - auc: 0.8219 - val_loss: 1.9186 - val_accuracy: 0.3438 - val_precision: 0.4118 - val_recall: 0.3889 - val_auc: 0.3571\n",
            "Epoch 2/50\n",
            "12/12 [==============================] - 5s 263ms/step - loss: 0.4345 - accuracy: 0.8222 - precision: 0.9355 - recall: 0.6744 - auc: 0.8370 - val_loss: 1.6207 - val_accuracy: 0.4062 - val_precision: 0.4375 - val_recall: 0.4118 - val_auc: 0.3706\n",
            "Epoch 3/50\n",
            "12/12 [==============================] - 4s 267ms/step - loss: 0.3837 - accuracy: 0.8021 - precision: 0.8974 - recall: 0.7000 - auc: 0.8678 - val_loss: 1.4710 - val_accuracy: 0.4375 - val_precision: 0.5556 - val_recall: 0.5000 - val_auc: 0.3667\n",
            "Epoch 4/50\n",
            "12/12 [==============================] - 4s 267ms/step - loss: 0.4210 - accuracy: 0.8021 - precision: 0.9024 - recall: 0.7115 - auc: 0.8472 - val_loss: 1.3704 - val_accuracy: 0.4688 - val_precision: 0.4762 - val_recall: 0.6250 - val_auc: 0.4141\n",
            "Epoch 5/50\n",
            "12/12 [==============================] - 6s 397ms/step - loss: 0.4023 - accuracy: 0.8229 - precision: 0.8611 - recall: 0.7209 - auc: 0.7986 - val_loss: 1.4176 - val_accuracy: 0.4688 - val_precision: 0.4444 - val_recall: 0.5333 - val_auc: 0.4804\n",
            "Epoch 6/50\n",
            "12/12 [==============================] - 4s 254ms/step - loss: 0.3010 - accuracy: 0.8438 - precision: 0.9697 - recall: 0.6957 - auc: 0.9117 - val_loss: 1.7190 - val_accuracy: 0.3750 - val_precision: 0.3750 - val_recall: 0.6429 - val_auc: 0.3651\n",
            "Epoch 7/50\n",
            "12/12 [==============================] - 4s 245ms/step - loss: 0.4030 - accuracy: 0.8229 - precision: 0.9091 - recall: 0.7547 - auc: 0.8543 - val_loss: 1.6544 - val_accuracy: 0.4688 - val_precision: 0.4500 - val_recall: 0.6000 - val_auc: 0.4882\n",
            "Epoch 8/50\n",
            "12/12 [==============================] - 7s 427ms/step - loss: 0.4535 - accuracy: 0.7708 - precision: 0.8043 - recall: 0.7400 - auc: 0.7913 - val_loss: 1.7810 - val_accuracy: 0.3438 - val_precision: 0.3333 - val_recall: 0.4000 - val_auc: 0.3157\n",
            "Epoch 9/50\n",
            "12/12 [==============================] - 4s 254ms/step - loss: 0.4040 - accuracy: 0.8333 - precision: 0.8750 - recall: 0.7609 - auc: 0.8543 - val_loss: 1.7242 - val_accuracy: 0.3125 - val_precision: 0.2632 - val_recall: 0.3846 - val_auc: 0.3178\n",
            "Epoch 10/50\n",
            "12/12 [==============================] - 5s 423ms/step - loss: 0.3770 - accuracy: 0.8222 - precision: 0.8438 - recall: 0.7105 - auc: 0.8543 - val_loss: 1.4087 - val_accuracy: 0.4062 - val_precision: 0.3571 - val_recall: 0.3333 - val_auc: 0.3608\n",
            "Epoch 11/50\n",
            "12/12 [==============================] - 4s 259ms/step - loss: 0.2928 - accuracy: 0.8667 - precision: 0.9744 - recall: 0.7755 - auc: 0.9079 - val_loss: 1.1602 - val_accuracy: 0.5000 - val_precision: 0.5556 - val_recall: 0.5556 - val_auc: 0.4782\n",
            "Epoch 12/50\n",
            "12/12 [==============================] - 4s 245ms/step - loss: 0.2928 - accuracy: 0.8646 - precision: 0.9524 - recall: 0.7843 - auc: 0.9429 - val_loss: 2.0037 - val_accuracy: 0.3438 - val_precision: 0.3500 - val_recall: 0.4667 - val_auc: 0.3608\n",
            "Epoch 13/50\n",
            "12/12 [==============================] - 5s 292ms/step - loss: 0.3224 - accuracy: 0.8542 - precision: 0.9500 - recall: 0.7600 - auc: 0.8941 - val_loss: 1.4018 - val_accuracy: 0.4375 - val_precision: 0.4444 - val_recall: 0.5000 - val_auc: 0.4375\n",
            "Epoch 14/50\n",
            "12/12 [==============================] - 4s 272ms/step - loss: 0.3149 - accuracy: 0.8646 - precision: 0.9333 - recall: 0.8077 - auc: 0.9139 - val_loss: 1.6665 - val_accuracy: 0.3438 - val_precision: 0.4545 - val_recall: 0.5263 - val_auc: 0.3178\n",
            "Epoch 15/50\n",
            "12/12 [==============================] - 4s 266ms/step - loss: 0.4104 - accuracy: 0.8229 - precision: 0.8974 - recall: 0.7292 - auc: 0.8583 - val_loss: 2.0110 - val_accuracy: 0.3438 - val_precision: 0.3529 - val_recall: 0.3750 - val_auc: 0.3047\n",
            "Epoch 16/50\n",
            "12/12 [==============================] - 6s 438ms/step - loss: 0.3777 - accuracy: 0.8125 - precision: 0.8537 - recall: 0.7447 - auc: 0.8543 - val_loss: 1.3773 - val_accuracy: 0.5312 - val_precision: 0.4375 - val_recall: 0.5385 - val_auc: 0.5526\n",
            "Epoch 17/50\n",
            "12/12 [==============================] - 4s 267ms/step - loss: 0.3104 - accuracy: 0.8333 - precision: 0.9500 - recall: 0.7308 - auc: 0.9030 - val_loss: 1.7965 - val_accuracy: 0.3125 - val_precision: 0.3571 - val_recall: 0.2778 - val_auc: 0.3274\n",
            "Epoch 18/50\n",
            "12/12 [==============================] - 6s 408ms/step - loss: 0.2744 - accuracy: 0.9167 - precision: 0.9722 - recall: 0.8333 - auc: 0.9239 - val_loss: 1.4976 - val_accuracy: 0.3438 - val_precision: 0.2727 - val_recall: 0.1875 - val_auc: 0.3242\n",
            "Epoch 19/50\n",
            "12/12 [==============================] - 4s 264ms/step - loss: 0.3449 - accuracy: 0.8438 - precision: 0.8889 - recall: 0.7442 - auc: 0.8894 - val_loss: 1.8241 - val_accuracy: 0.3125 - val_precision: 0.2778 - val_recall: 0.3571 - val_auc: 0.3155\n",
            "Epoch 20/50\n",
            "12/12 [==============================] - 6s 445ms/step - loss: 0.3032 - accuracy: 0.8542 - precision: 0.9286 - recall: 0.7800 - auc: 0.8957 - val_loss: 1.5795 - val_accuracy: 0.3750 - val_precision: 0.4000 - val_recall: 0.5000 - val_auc: 0.3750\n",
            "Epoch 21/50\n",
            "12/12 [==============================] - 4s 246ms/step - loss: 0.3471 - accuracy: 0.8542 - precision: 0.9070 - recall: 0.7959 - auc: 0.8797 - val_loss: 1.5887 - val_accuracy: 0.4375 - val_precision: 0.5000 - val_recall: 0.3333 - val_auc: 0.4167\n",
            "Epoch 22/50\n",
            "12/12 [==============================] - 6s 429ms/step - loss: 0.3298 - accuracy: 0.8021 - precision: 0.8889 - recall: 0.6809 - auc: 0.8630 - val_loss: 2.0433 - val_accuracy: 0.3125 - val_precision: 0.3529 - val_recall: 0.3529 - val_auc: 0.2941\n",
            "Epoch 23/50\n",
            "12/12 [==============================] - 4s 254ms/step - loss: 0.3149 - accuracy: 0.8750 - precision: 0.8864 - recall: 0.8478 - auc: 0.9252 - val_loss: 1.7308 - val_accuracy: 0.4375 - val_precision: 0.4000 - val_recall: 0.4000 - val_auc: 0.4176\n",
            "Epoch 24/50\n",
            "12/12 [==============================] - 6s 347ms/step - loss: 0.2976 - accuracy: 0.8438 - precision: 0.9348 - recall: 0.7818 - auc: 0.9109 - val_loss: 1.4850 - val_accuracy: 0.4375 - val_precision: 0.3333 - val_recall: 0.6364 - val_auc: 0.4589\n",
            "Epoch 25/50\n",
            "12/12 [==============================] - 4s 253ms/step - loss: 0.3880 - accuracy: 0.8229 - precision: 0.8750 - recall: 0.7447 - auc: 0.8519 - val_loss: 2.0784 - val_accuracy: 0.3125 - val_precision: 0.3333 - val_recall: 0.3750 - val_auc: 0.2988\n",
            "Epoch 26/50\n",
            "12/12 [==============================] - 4s 267ms/step - loss: 0.2732 - accuracy: 0.8646 - precision: 0.8378 - recall: 0.8158 - auc: 0.9281 - val_loss: 1.4898 - val_accuracy: 0.4688 - val_precision: 0.4167 - val_recall: 0.3333 - val_auc: 0.4176\n",
            "Epoch 27/50\n",
            "12/12 [==============================] - 5s 392ms/step - loss: 0.3246 - accuracy: 0.8229 - precision: 0.8529 - recall: 0.7073 - auc: 0.8678 - val_loss: 1.4202 - val_accuracy: 0.4375 - val_precision: 0.4167 - val_recall: 0.3125 - val_auc: 0.4707\n",
            "Epoch 28/50\n",
            "12/12 [==============================] - 4s 266ms/step - loss: 0.2200 - accuracy: 0.9375 - precision: 0.9792 - recall: 0.9038 - auc: 0.9661 - val_loss: 2.0905 - val_accuracy: 0.2812 - val_precision: 0.3684 - val_recall: 0.3889 - val_auc: 0.2937\n",
            "Epoch 29/50\n",
            "12/12 [==============================] - 6s 430ms/step - loss: 0.2261 - accuracy: 0.9271 - precision: 0.9756 - recall: 0.8696 - auc: 0.9215 - val_loss: 1.5321 - val_accuracy: 0.4688 - val_precision: 0.4211 - val_recall: 0.5714 - val_auc: 0.4524\n",
            "Epoch 30/50\n",
            "12/12 [==============================] - 4s 253ms/step - loss: 0.3039 - accuracy: 0.8542 - precision: 0.9091 - recall: 0.8475 - auc: 0.8637 - val_loss: 1.9125 - val_accuracy: 0.3125 - val_precision: 0.3182 - val_recall: 0.5000 - val_auc: 0.3254\n",
            "Epoch 31/50\n",
            "12/12 [==============================] - 6s 435ms/step - loss: 0.3059 - accuracy: 0.8542 - precision: 0.8684 - recall: 0.7857 - auc: 0.8984 - val_loss: 1.7169 - val_accuracy: 0.4062 - val_precision: 0.4375 - val_recall: 0.4118 - val_auc: 0.3804\n",
            "Epoch 32/50\n",
            "12/12 [==============================] - 4s 266ms/step - loss: 0.1815 - accuracy: 0.9375 - precision: 0.9796 - recall: 0.9057 - auc: 0.9772 - val_loss: 1.6206 - val_accuracy: 0.4062 - val_precision: 0.4737 - val_recall: 0.5000 - val_auc: 0.3869\n",
            "Epoch 33/50\n",
            "12/12 [==============================] - 4s 272ms/step - loss: 0.2430 - accuracy: 0.9167 - precision: 0.9231 - recall: 0.8780 - auc: 0.9437 - val_loss: 1.5859 - val_accuracy: 0.4688 - val_precision: 0.5000 - val_recall: 0.5294 - val_auc: 0.3843\n",
            "Epoch 34/50\n",
            "12/12 [==============================] - 6s 443ms/step - loss: 0.2433 - accuracy: 0.9062 - precision: 0.9020 - recall: 0.9200 - auc: 0.9502 - val_loss: 2.2059 - val_accuracy: 0.3438 - val_precision: 0.3333 - val_recall: 0.5000 - val_auc: 0.3512\n",
            "Epoch 35/50\n",
            "12/12 [==============================] - 4s 255ms/step - loss: 0.2159 - accuracy: 0.8854 - precision: 0.9189 - recall: 0.8095 - auc: 0.9246 - val_loss: 2.0630 - val_accuracy: 0.3125 - val_precision: 0.3158 - val_recall: 0.4000 - val_auc: 0.3235\n",
            "Epoch 36/50\n",
            "12/12 [==============================] - 4s 278ms/step - loss: 0.1751 - accuracy: 0.9583 - precision: 0.9773 - recall: 0.9348 - auc: 0.9672 - val_loss: 2.0517 - val_accuracy: 0.4375 - val_precision: 0.3684 - val_recall: 0.5385 - val_auc: 0.4211\n",
            "Epoch 37/50\n",
            "12/12 [==============================] - 7s 433ms/step - loss: 0.2239 - accuracy: 0.8750 - precision: 0.9394 - recall: 0.7561 - auc: 0.9255 - val_loss: 2.5582 - val_accuracy: 0.3125 - val_precision: 0.3810 - val_recall: 0.4706 - val_auc: 0.3020\n",
            "Epoch 38/50\n",
            "12/12 [==============================] - 4s 265ms/step - loss: 0.2057 - accuracy: 0.9271 - precision: 0.9811 - recall: 0.8966 - auc: 0.9673 - val_loss: 2.4062 - val_accuracy: 0.3125 - val_precision: 0.3000 - val_recall: 0.4286 - val_auc: 0.3333\n",
            "Epoch 39/50\n",
            "12/12 [==============================] - 4s 254ms/step - loss: 0.2063 - accuracy: 0.9062 - precision: 0.9697 - recall: 0.8000 - auc: 0.9089 - val_loss: 2.2308 - val_accuracy: 0.2812 - val_precision: 0.3000 - val_recall: 0.4000 - val_auc: 0.2941\n",
            "Epoch 40/50\n",
            "12/12 [==============================] - 6s 428ms/step - loss: 0.1881 - accuracy: 0.9167 - precision: 0.9630 - recall: 0.8966 - auc: 0.9381 - val_loss: 2.0705 - val_accuracy: 0.3750 - val_precision: 0.4000 - val_recall: 0.6667 - val_auc: 0.4353\n",
            "Epoch 41/50\n",
            "12/12 [==============================] - 4s 253ms/step - loss: 0.2581 - accuracy: 0.8750 - precision: 0.9111 - recall: 0.8367 - auc: 0.9277 - val_loss: 1.8692 - val_accuracy: 0.3750 - val_precision: 0.3810 - val_recall: 0.5333 - val_auc: 0.3627\n",
            "Epoch 42/50\n",
            "12/12 [==============================] - 6s 420ms/step - loss: 0.2251 - accuracy: 0.9167 - precision: 0.9434 - recall: 0.9091 - auc: 0.9490 - val_loss: 2.0264 - val_accuracy: 0.2188 - val_precision: 0.2667 - val_recall: 0.2222 - val_auc: 0.2421\n",
            "Epoch 43/50\n",
            "12/12 [==============================] - 4s 266ms/step - loss: 0.2149 - accuracy: 0.9271 - precision: 0.9348 - recall: 0.9149 - auc: 0.9433 - val_loss: 1.8814 - val_accuracy: 0.4375 - val_precision: 0.3571 - val_recall: 0.3571 - val_auc: 0.4385\n",
            "Epoch 44/50\n",
            "12/12 [==============================] - 4s 257ms/step - loss: 0.1611 - accuracy: 0.9479 - precision: 1.0000 - recall: 0.9038 - auc: 0.9508 - val_loss: 1.7644 - val_accuracy: 0.3750 - val_precision: 0.3684 - val_recall: 0.4667 - val_auc: 0.3784\n",
            "Epoch 45/50\n",
            "12/12 [==============================] - 6s 436ms/step - loss: 0.1523 - accuracy: 0.9479 - precision: 0.9796 - recall: 0.9231 - auc: 0.9878 - val_loss: 2.2770 - val_accuracy: 0.3438 - val_precision: 0.4348 - val_recall: 0.5556 - val_auc: 0.2877\n",
            "Epoch 46/50\n",
            "12/12 [==============================] - 4s 247ms/step - loss: 0.2312 - accuracy: 0.8750 - precision: 0.9057 - recall: 0.8727 - auc: 0.9324 - val_loss: 1.8864 - val_accuracy: 0.4375 - val_precision: 0.5263 - val_recall: 0.5263 - val_auc: 0.3623\n",
            "Epoch 47/50\n",
            "12/12 [==============================] - 6s 344ms/step - loss: 0.1603 - accuracy: 0.9479 - precision: 1.0000 - recall: 0.8810 - auc: 0.9515 - val_loss: 2.3981 - val_accuracy: 0.4062 - val_precision: 0.4444 - val_recall: 0.4706 - val_auc: 0.3824\n",
            "Epoch 48/50\n",
            "12/12 [==============================] - 4s 266ms/step - loss: 0.1597 - accuracy: 0.9271 - precision: 0.9412 - recall: 0.9231 - auc: 0.9554 - val_loss: 1.4692 - val_accuracy: 0.5938 - val_precision: 0.6471 - val_recall: 0.6111 - val_auc: 0.5516\n",
            "Epoch 49/50\n",
            "12/12 [==============================] - 4s 276ms/step - loss: 0.1652 - accuracy: 0.9271 - precision: 0.9787 - recall: 0.8846 - auc: 0.9771 - val_loss: 1.7577 - val_accuracy: 0.4062 - val_precision: 0.4762 - val_recall: 0.5556 - val_auc: 0.4087\n",
            "Epoch 50/50\n",
            "12/12 [==============================] - 5s 402ms/step - loss: 0.1430 - accuracy: 0.9375 - precision: 0.9583 - recall: 0.9200 - auc: 0.9665 - val_loss: 2.4185 - val_accuracy: 0.3438 - val_precision: 0.3478 - val_recall: 0.5714 - val_auc: 0.3750\n"
          ]
        }
      ]
    },
    {
      "cell_type": "markdown",
      "source": [
        "transfer siamese+resnet"
      ],
      "metadata": {
        "id": "dW0trr4MkZAM"
      }
    },
    {
      "cell_type": "code",
      "source": [
        "from tensorflow.keras.models import Model\n",
        "from tensorflow.keras.layers import Input, Flatten, Dense, Lambda\n",
        "from tensorflow.keras.applications import ResNet50\n",
        "from tensorflow.keras.optimizers import Adam\n",
        "import tensorflow as tf\n",
        "\n",
        "# Define the base ResNet-50 network (shared by both input branches)\n",
        "def create_base_network(input_shape):\n",
        "    base_model = ResNet50(weights='imagenet', include_top=False, input_shape=input_shape)\n",
        "    for layer in base_model.layers:\n",
        "        layer.trainable = False  # Freeze the weights of the pre-trained ResNet layers\n",
        "    return base_model\n",
        "\n",
        "# Define the two input branches of the Siamese Network\n",
        "input_shape = (224, 224, 3)  # Input shape for your images\n",
        "left_input = Input(shape=input_shape)\n",
        "right_input = Input(shape=input_shape)\n",
        "\n",
        "# Create two separate base networks (shared weights) for both inputs\n",
        "base_network = create_base_network(input_shape)\n",
        "left_output = base_network(left_input)\n",
        "right_output = base_network(right_input)\n",
        "\n",
        "# Define the distance metric (Euclidean distance) between the outputs of the base networks\n",
        "distance = Lambda(lambda x: tf.keras.backend.abs(x[0] - x[1]))([left_output, right_output])\n",
        "\n",
        "# Create the final Siamese Network model\n",
        "siamese_model = Model(inputs=[left_input, right_input], outputs=distance)\n",
        "\n",
        "# Unfreeze the base ResNet model for fine-tuning\n",
        "base_network.trainable = True\n",
        "\n",
        "# Compile the Siamese Network with a very low learning rate and binary cross-entropy loss\n",
        "siamese_model.compile(optimizer=Adam(lr=0.000001),\n",
        "                      loss='binary_crossentropy',\n",
        "                      metrics=['accuracy','Precision','Recall','AUC'])\n",
        "\n",
        "# Print the model summary\n",
        "siamese_model.summary()\n"
      ],
      "metadata": {
        "id": "7zSbfhVziFuw",
        "colab": {
          "base_uri": "https://localhost:8080/"
        },
        "outputId": "5b92e15a-0401-4533-c85a-1bbba88d0104"
      },
      "execution_count": 28,
      "outputs": [
        {
          "output_type": "stream",
          "name": "stderr",
          "text": [
            "WARNING:absl:`lr` is deprecated in Keras optimizer, please use `learning_rate` or use the legacy optimizer, e.g.,tf.keras.optimizers.legacy.Adam.\n"
          ]
        },
        {
          "output_type": "stream",
          "name": "stdout",
          "text": [
            "Model: \"model_4\"\n",
            "__________________________________________________________________________________________________\n",
            " Layer (type)                Output Shape                 Param #   Connected to                  \n",
            "==================================================================================================\n",
            " input_13 (InputLayer)       [(None, 224, 224, 3)]        0         []                            \n",
            "                                                                                                  \n",
            " input_14 (InputLayer)       [(None, 224, 224, 3)]        0         []                            \n",
            "                                                                                                  \n",
            " resnet50 (Functional)       (None, 7, 7, 2048)           2358771   ['input_13[0][0]',            \n",
            "                                                          2          'input_14[0][0]']            \n",
            "                                                                                                  \n",
            " lambda_2 (Lambda)           (None, 7, 7, 2048)           0         ['resnet50[0][0]',            \n",
            "                                                                     'resnet50[1][0]']            \n",
            "                                                                                                  \n",
            "==================================================================================================\n",
            "Total params: 23587712 (89.98 MB)\n",
            "Trainable params: 23534592 (89.78 MB)\n",
            "Non-trainable params: 53120 (207.50 KB)\n",
            "__________________________________________________________________________________________________\n"
          ]
        }
      ]
    },
    {
      "cell_type": "code",
      "source": [
        "from tensorflow.keras.applications import ResNet50\n",
        "from tensorflow.keras.models import Model\n",
        "from tensorflow.keras.layers import Input, Flatten, Dense, Lambda\n",
        "from tensorflow.keras.optimizers import RMSprop\n",
        "import tensorflow as tf\n",
        "\n",
        "# Load a pre-trained ResNet-50 model without top layers\n",
        "base_model = ResNet50(weights='imagenet', include_top=False, input_shape=(224, 224, 3))\n",
        "\n",
        "# Define the two input branches of the Siamese Network\n",
        "input_shape = (224, 224, 3)\n",
        "left_input = Input(shape=input_shape)\n",
        "right_input = Input(shape=input_shape)\n",
        "\n",
        "# Apply the same base ResNet model for both inputs\n",
        "left_output = base_model(left_input)\n",
        "right_output = base_model(right_input)\n",
        "\n",
        "# Define the distance metric (Euclidean distance) between the outputs of the base networks\n",
        "distance = Lambda(lambda x: tf.keras.backend.abs(x[0] - x[1]))([left_output, right_output])\n",
        "\n",
        "# Create the Siamese Network model\n",
        "siamese_model = Model(inputs=[left_input, right_input], outputs=distance)\n",
        "\n",
        "# Unfreeze the base ResNet model for fine-tuning\n",
        "base_model.trainable = True\n",
        "\n",
        "# Compile the Siamese Network with a very low learning rate and binary cross-entropy loss\n",
        "siamese_model.compile(optimizer=RMSprop(learning_rate=0.000001),\n",
        "                      loss='binary_crossentropy',\n",
        "                      metrics=['accuracy','Precision','Recall','AUC'])\n",
        "\n",
        "# Print the model summary\n",
        "siamese_model.summary()\n",
        "\n",
        "# Training the Siamese Network using your data generators\n",
        "# history = .fit(train_it, steps_per_epoch=12, validation_data=valid_it, validation_steps=4, workers=10, epochs=20)\n",
        "\n",
        "history = model.fit(train_it, steps_per_epoch=12, validation_data=valid_it, validation_steps=4, workers=10, epochs=20)\n"
      ],
      "metadata": {
        "colab": {
          "base_uri": "https://localhost:8080/"
        },
        "id": "-GKwXaYw4Q6s",
        "outputId": "b1723b5f-61b9-4b80-a15b-78390d6f3ae0"
      },
      "execution_count": 29,
      "outputs": [
        {
          "output_type": "stream",
          "name": "stdout",
          "text": [
            "Model: \"model_5\"\n",
            "__________________________________________________________________________________________________\n",
            " Layer (type)                Output Shape                 Param #   Connected to                  \n",
            "==================================================================================================\n",
            " input_17 (InputLayer)       [(None, 224, 224, 3)]        0         []                            \n",
            "                                                                                                  \n",
            " input_18 (InputLayer)       [(None, 224, 224, 3)]        0         []                            \n",
            "                                                                                                  \n",
            " resnet50 (Functional)       (None, 7, 7, 2048)           2358771   ['input_17[0][0]',            \n",
            "                                                          2          'input_18[0][0]']            \n",
            "                                                                                                  \n",
            " lambda_3 (Lambda)           (None, 7, 7, 2048)           0         ['resnet50[0][0]',            \n",
            "                                                                     'resnet50[1][0]']            \n",
            "                                                                                                  \n",
            "==================================================================================================\n",
            "Total params: 23587712 (89.98 MB)\n",
            "Trainable params: 23534592 (89.78 MB)\n",
            "Non-trainable params: 53120 (207.50 KB)\n",
            "__________________________________________________________________________________________________\n",
            "Epoch 1/20\n",
            "12/12 [==============================] - 6s 356ms/step - loss: 0.2297 - accuracy: 0.9062 - precision: 0.9268 - recall: 0.8636 - auc: 0.9089 - val_loss: 1.5726 - val_accuracy: 0.4688 - val_precision: 0.5238 - val_recall: 0.6111 - val_auc: 0.4524\n",
            "Epoch 2/20\n",
            "12/12 [==============================] - 4s 315ms/step - loss: 0.1789 - accuracy: 0.9222 - precision: 0.9778 - recall: 0.8800 - auc: 0.9673 - val_loss: 2.7289 - val_accuracy: 0.2812 - val_precision: 0.2857 - val_recall: 0.7273 - val_auc: 0.3983\n",
            "Epoch 3/20\n",
            "12/12 [==============================] - 4s 266ms/step - loss: 0.1676 - accuracy: 0.9479 - precision: 1.0000 - recall: 0.9020 - auc: 0.9569 - val_loss: 1.8348 - val_accuracy: 0.3750 - val_precision: 0.3810 - val_recall: 0.5333 - val_auc: 0.4235\n",
            "Epoch 4/20\n",
            "12/12 [==============================] - 5s 268ms/step - loss: 0.1579 - accuracy: 0.9271 - precision: 0.9565 - recall: 0.8980 - auc: 0.9349 - val_loss: 1.8629 - val_accuracy: 0.4375 - val_precision: 0.5000 - val_recall: 0.5000 - val_auc: 0.4702\n",
            "Epoch 5/20\n",
            "12/12 [==============================] - 4s 260ms/step - loss: 0.1769 - accuracy: 0.9375 - precision: 0.9750 - recall: 0.8864 - auc: 0.9497 - val_loss: 1.0876 - val_accuracy: 0.5938 - val_precision: 0.7333 - val_recall: 0.5500 - val_auc: 0.6250\n",
            "Epoch 6/20\n",
            "12/12 [==============================] - 6s 404ms/step - loss: 0.2000 - accuracy: 0.8854 - precision: 0.9024 - recall: 0.8409 - auc: 0.8993 - val_loss: 2.0559 - val_accuracy: 0.4688 - val_precision: 0.4706 - val_recall: 0.5000 - val_auc: 0.4688\n",
            "Epoch 7/20\n",
            "12/12 [==============================] - 4s 243ms/step - loss: 0.2042 - accuracy: 0.9167 - precision: 0.9375 - recall: 0.9000 - auc: 0.9439 - val_loss: 1.4033 - val_accuracy: 0.4688 - val_precision: 0.5833 - val_recall: 0.3684 - val_auc: 0.4960\n",
            "Epoch 8/20\n",
            "12/12 [==============================] - 6s 408ms/step - loss: 0.1950 - accuracy: 0.8958 - precision: 0.9556 - recall: 0.8431 - auc: 0.9259 - val_loss: 1.9609 - val_accuracy: 0.3750 - val_precision: 0.4211 - val_recall: 0.4706 - val_auc: 0.3431\n",
            "Epoch 9/20\n",
            "12/12 [==============================] - 5s 383ms/step - loss: 0.1424 - accuracy: 0.9479 - precision: 0.9778 - recall: 0.9167 - auc: 0.9865 - val_loss: 2.2381 - val_accuracy: 0.3125 - val_precision: 0.3000 - val_recall: 0.4286 - val_auc: 0.3175\n",
            "Epoch 10/20\n",
            "12/12 [==============================] - 6s 435ms/step - loss: 0.2009 - accuracy: 0.9271 - precision: 0.9615 - recall: 0.9091 - auc: 0.9395 - val_loss: 1.6631 - val_accuracy: 0.4688 - val_precision: 0.4500 - val_recall: 0.6000 - val_auc: 0.4784\n",
            "Epoch 11/20\n",
            "12/12 [==============================] - 4s 255ms/step - loss: 0.1218 - accuracy: 0.9583 - precision: 0.9792 - recall: 0.9400 - auc: 0.9670 - val_loss: 1.7434 - val_accuracy: 0.4062 - val_precision: 0.3750 - val_recall: 0.4000 - val_auc: 0.3765\n",
            "Epoch 12/20\n",
            "12/12 [==============================] - 4s 271ms/step - loss: 0.1282 - accuracy: 0.9792 - precision: 0.9778 - recall: 0.9778 - auc: 0.9869 - val_loss: 1.8219 - val_accuracy: 0.4062 - val_precision: 0.3846 - val_recall: 0.3125 - val_auc: 0.3984\n",
            "Epoch 13/20\n",
            "12/12 [==============================] - 5s 323ms/step - loss: 0.2082 - accuracy: 0.9271 - precision: 0.9574 - recall: 0.9000 - auc: 0.9559 - val_loss: 3.0158 - val_accuracy: 0.2188 - val_precision: 0.2500 - val_recall: 0.4615 - val_auc: 0.2591\n",
            "Epoch 14/20\n",
            "12/12 [==============================] - 4s 268ms/step - loss: 0.1517 - accuracy: 0.9583 - precision: 1.0000 - recall: 0.9149 - auc: 0.9881 - val_loss: 1.8986 - val_accuracy: 0.4062 - val_precision: 0.5000 - val_recall: 0.5263 - val_auc: 0.3866\n",
            "Epoch 15/20\n",
            "12/12 [==============================] - 4s 268ms/step - loss: 0.1382 - accuracy: 0.9271 - precision: 1.0000 - recall: 0.8654 - auc: 0.9653 - val_loss: 2.6760 - val_accuracy: 0.3750 - val_precision: 0.4091 - val_recall: 0.5625 - val_auc: 0.3145\n",
            "Epoch 16/20\n",
            "12/12 [==============================] - 6s 448ms/step - loss: 0.1135 - accuracy: 0.9688 - precision: 0.9535 - recall: 0.9762 - auc: 0.9896 - val_loss: 1.8724 - val_accuracy: 0.4375 - val_precision: 0.4500 - val_recall: 0.5625 - val_auc: 0.4277\n",
            "Epoch 17/20\n",
            "12/12 [==============================] - 4s 265ms/step - loss: 0.1277 - accuracy: 0.9479 - precision: 0.9783 - recall: 0.9184 - auc: 0.9472 - val_loss: 1.6587 - val_accuracy: 0.5312 - val_precision: 0.5556 - val_recall: 0.5882 - val_auc: 0.5118\n",
            "Epoch 18/20\n",
            "12/12 [==============================] - 7s 436ms/step - loss: 0.0788 - accuracy: 0.9792 - precision: 1.0000 - recall: 0.9643 - auc: 0.9911 - val_loss: 2.0867 - val_accuracy: 0.4375 - val_precision: 0.4211 - val_recall: 0.5333 - val_auc: 0.4216\n",
            "Epoch 19/20\n",
            "12/12 [==============================] - 4s 254ms/step - loss: 0.1202 - accuracy: 0.9792 - precision: 1.0000 - recall: 0.9615 - auc: 0.9803 - val_loss: 1.6913 - val_accuracy: 0.4688 - val_precision: 0.5000 - val_recall: 0.5882 - val_auc: 0.4471\n",
            "Epoch 20/20\n",
            "12/12 [==============================] - 4s 245ms/step - loss: 0.1507 - accuracy: 0.9271 - precision: 0.9574 - recall: 0.9000 - auc: 0.9463 - val_loss: 2.0939 - val_accuracy: 0.3438 - val_precision: 0.4000 - val_recall: 0.4706 - val_auc: 0.2882\n"
          ]
        }
      ]
    },
    {
      "cell_type": "markdown",
      "source": [
        "crnn"
      ],
      "metadata": {
        "id": "phz_kJUMkf0g"
      }
    },
    {
      "cell_type": "code",
      "source": [
        "from tensorflow.keras.models import Sequential\n",
        "from tensorflow.keras.layers import Conv2D, MaxPooling2D, Reshape, Dense, Dropout, Bidirectional, LSTM\n",
        "from tensorflow.keras.layers import TimeDistributed\n",
        "\n",
        "# Define CRNN model\n",
        "def create_CRNN_model(input_shape, num_classes):\n",
        "    model = Sequential()\n",
        "\n",
        "    # Convolutional layers\n",
        "    model.add(Conv2D(32, (3, 3), activation='relu', padding='same', input_shape=input_shape))\n",
        "    model.add(MaxPooling2D((2, 2)))\n",
        "    model.add(Conv2D(64, (3, 3), activation='relu', padding='same'))\n",
        "    model.add(MaxPooling2D((2, 2)))\n",
        "\n",
        "    # Reshape for LSTM layers\n",
        "    model.add(Reshape((-1, 64)))\n",
        "\n",
        "    # Recurrent layers\n",
        "    model.add(Bidirectional(LSTM(128, return_sequences=True)))\n",
        "    model.add(Dropout(0.5))\n",
        "\n",
        "    # TimeDistributed layer for sequence output\n",
        "    model.add(TimeDistributed(Dense(num_classes, activation='softmax')))\n",
        "\n",
        "    return model\n",
        "\n",
        "# Example usage\n",
        "input_shape = (224, 224, 3)  # Adjust input shape based on your MRI image dimensions\n",
        "num_classes = 2  # Assuming binary classification (e.g., disease progression or not)\n",
        "\n",
        "# Create CRNN model\n",
        "crnn_model = create_CRNN_model(input_shape, num_classes)\n",
        "\n",
        "# Compile the model\n",
        "crnn_model.compile(optimizer='adam', loss='sparse_categorical_crossentropy', metrics=['accuracy','Precision','Recall','AUC','F1'])\n",
        "\n",
        "# Print model summary\n",
        "crnn_model.summary()\n"
      ],
      "metadata": {
        "colab": {
          "base_uri": "https://localhost:8080/"
        },
        "id": "B2Y1X5Ta4Ute",
        "outputId": "da9894ed-c985-4fb6-895b-f939c9a300b6"
      },
      "execution_count": 30,
      "outputs": [
        {
          "output_type": "stream",
          "name": "stdout",
          "text": [
            "Model: \"sequential_2\"\n",
            "_________________________________________________________________\n",
            " Layer (type)                Output Shape              Param #   \n",
            "=================================================================\n",
            " conv2d_4 (Conv2D)           (None, 224, 224, 32)      896       \n",
            "                                                                 \n",
            " max_pooling2d_4 (MaxPoolin  (None, 112, 112, 32)      0         \n",
            " g2D)                                                            \n",
            "                                                                 \n",
            " conv2d_5 (Conv2D)           (None, 112, 112, 64)      18496     \n",
            "                                                                 \n",
            " max_pooling2d_5 (MaxPoolin  (None, 56, 56, 64)        0         \n",
            " g2D)                                                            \n",
            "                                                                 \n",
            " reshape_2 (Reshape)         (None, 3136, 64)          0         \n",
            "                                                                 \n",
            " bidirectional_2 (Bidirecti  (None, 3136, 256)         197632    \n",
            " onal)                                                           \n",
            "                                                                 \n",
            " dropout_2 (Dropout)         (None, 3136, 256)         0         \n",
            "                                                                 \n",
            " time_distributed_2 (TimeDi  (None, 3136, 2)           514       \n",
            " stributed)                                                      \n",
            "                                                                 \n",
            "=================================================================\n",
            "Total params: 217538 (849.76 KB)\n",
            "Trainable params: 217538 (849.76 KB)\n",
            "Non-trainable params: 0 (0.00 Byte)\n",
            "_________________________________________________________________\n"
          ]
        }
      ]
    },
    {
      "cell_type": "code",
      "source": [
        "from tensorflow.keras.models import Sequential\n",
        "from tensorflow.keras.layers import Conv2D, MaxPooling2D, Reshape, Dense, Dropout, Bidirectional, LSTM\n",
        "from tensorflow.keras.layers import TimeDistributed\n",
        "from tensorflow.keras.optimizers import Adam\n",
        "\n",
        "# Define CRNN model\n",
        "def create_CRNN_model(input_shape, num_classes):\n",
        "    model = Sequential()\n",
        "\n",
        "    # Convolutional layers\n",
        "    model.add(Conv2D(32, (3, 3), activation='relu', padding='same', input_shape=input_shape))\n",
        "    model.add(MaxPooling2D((2, 2)))\n",
        "    model.add(Conv2D(64, (3, 3), activation='relu', padding='same'))\n",
        "    model.add(MaxPooling2D((2, 2)))\n",
        "\n",
        "    # Reshape for LSTM layers\n",
        "    model.add(Reshape((-1, 64)))\n",
        "\n",
        "    # Recurrent layers\n",
        "    model.add(Bidirectional(LSTM(128, return_sequences=True)))\n",
        "    model.add(Dropout(0.5))\n",
        "\n",
        "    # TimeDistributed layer for sequence output\n",
        "    model.add(TimeDistributed(Dense(num_classes, activation='softmax')))\n",
        "\n",
        "    return model\n",
        "\n",
        "# Example usage\n",
        "input_shape = (224, 224, 3)  # Adjust input shape based on your MRI image dimensions\n",
        "num_classes = 2  # Assuming binary classification (e.g., disease progression or not)\n",
        "\n",
        "# Create CRNN model\n",
        "crnn_model = create_CRNN_model(input_shape, num_classes)\n",
        "\n",
        "# Compile the model\n",
        "crnn_model.compile(optimizer=Adam(lr=0.001), loss='sparse_categorical_crossentropy', metrics=['accuracy','Precision','Recall','AUC','F1'])\n",
        "\n",
        "# Print model summary\n",
        "crnn_model.summary()\n",
        "\n",
        "# Train the model\n",
        "epochs = 30  # Set the number of epochs\n",
        "# Assuming you have train_data and validation_data for training and validation sets\n",
        "history = model.fit(train_it, steps_per_epoch=12, validation_data=valid_it, validation_steps=4, workers=10, epochs=36)\n",
        "\n",
        "# # Evaluate the model on test data\n",
        "# test_loss, test_accuracy = crnn_model.evaluate(test_data)\n",
        "# print(\"Test Loss:\", test_loss)\n",
        "# print(\"Test Accuracy:\", test_accuracy)\n"
      ],
      "metadata": {
        "colab": {
          "base_uri": "https://localhost:8080/"
        },
        "id": "g4hESq0X4c0e",
        "outputId": "b54e9157-9dcc-4591-cd65-3255c341ad32"
      },
      "execution_count": 31,
      "outputs": [
        {
          "output_type": "stream",
          "name": "stderr",
          "text": [
            "WARNING:absl:`lr` is deprecated in Keras optimizer, please use `learning_rate` or use the legacy optimizer, e.g.,tf.keras.optimizers.legacy.Adam.\n"
          ]
        },
        {
          "output_type": "stream",
          "name": "stdout",
          "text": [
            "Model: \"sequential_3\"\n",
            "_________________________________________________________________\n",
            " Layer (type)                Output Shape              Param #   \n",
            "=================================================================\n",
            " conv2d_6 (Conv2D)           (None, 224, 224, 32)      896       \n",
            "                                                                 \n",
            " max_pooling2d_6 (MaxPoolin  (None, 112, 112, 32)      0         \n",
            " g2D)                                                            \n",
            "                                                                 \n",
            " conv2d_7 (Conv2D)           (None, 112, 112, 64)      18496     \n",
            "                                                                 \n",
            " max_pooling2d_7 (MaxPoolin  (None, 56, 56, 64)        0         \n",
            " g2D)                                                            \n",
            "                                                                 \n",
            " reshape_3 (Reshape)         (None, 3136, 64)          0         \n",
            "                                                                 \n",
            " bidirectional_3 (Bidirecti  (None, 3136, 256)         197632    \n",
            " onal)                                                           \n",
            "                                                                 \n",
            " dropout_3 (Dropout)         (None, 3136, 256)         0         \n",
            "                                                                 \n",
            " time_distributed_3 (TimeDi  (None, 3136, 2)           514       \n",
            " stributed)                                                      \n",
            "                                                                 \n",
            "=================================================================\n",
            "Total params: 217538 (849.76 KB)\n",
            "Trainable params: 217538 (849.76 KB)\n",
            "Non-trainable params: 0 (0.00 Byte)\n",
            "_________________________________________________________________\n",
            "Epoch 1/36\n",
            "12/12 [==============================] - 5s 294ms/step - loss: 0.1466 - accuracy: 0.9583 - precision: 0.9615 - recall: 0.9615 - auc: 0.9681 - val_loss: 2.3412 - val_accuracy: 0.3750 - val_precision: 0.3158 - val_recall: 0.4615 - val_auc: 0.3603\n",
            "Epoch 2/36\n",
            "12/12 [==============================] - 4s 254ms/step - loss: 0.1141 - accuracy: 0.9792 - precision: 0.9783 - recall: 0.9783 - auc: 0.9783 - val_loss: 1.6440 - val_accuracy: 0.5312 - val_precision: 0.6429 - val_recall: 0.4737 - val_auc: 0.5385\n",
            "Epoch 3/36\n",
            "12/12 [==============================] - 4s 280ms/step - loss: 0.0896 - accuracy: 0.9792 - precision: 0.9783 - recall: 0.9783 - auc: 0.9889 - val_loss: 1.9751 - val_accuracy: 0.4375 - val_precision: 0.4211 - val_recall: 0.5333 - val_auc: 0.4294\n",
            "Epoch 4/36\n",
            "12/12 [==============================] - 5s 280ms/step - loss: 0.1473 - accuracy: 0.9479 - precision: 0.9808 - recall: 0.9273 - auc: 0.9761 - val_loss: 2.3224 - val_accuracy: 0.2812 - val_precision: 0.2222 - val_recall: 0.3077 - val_auc: 0.2854\n",
            "Epoch 5/36\n",
            "12/12 [==============================] - 4s 268ms/step - loss: 0.1081 - accuracy: 0.9792 - precision: 0.9800 - recall: 0.9800 - auc: 0.9885 - val_loss: 2.0434 - val_accuracy: 0.4062 - val_precision: 0.3333 - val_recall: 0.3571 - val_auc: 0.3929\n",
            "Epoch 6/36\n",
            "12/12 [==============================] - 5s 377ms/step - loss: 0.1066 - accuracy: 0.9583 - precision: 0.9574 - recall: 0.9574 - auc: 0.9776 - val_loss: 1.6128 - val_accuracy: 0.5000 - val_precision: 0.5625 - val_recall: 0.5000 - val_auc: 0.5000\n",
            "Epoch 7/36\n",
            "12/12 [==============================] - 4s 266ms/step - loss: 0.1325 - accuracy: 0.9583 - precision: 0.9787 - recall: 0.9388 - auc: 0.9770 - val_loss: 2.1172 - val_accuracy: 0.3750 - val_precision: 0.4583 - val_recall: 0.6111 - val_auc: 0.3175\n",
            "Epoch 8/36\n",
            "12/12 [==============================] - 5s 381ms/step - loss: 0.1190 - accuracy: 0.9688 - precision: 0.9796 - recall: 0.9600 - auc: 0.9687 - val_loss: 1.8658 - val_accuracy: 0.5000 - val_precision: 0.4118 - val_recall: 0.5385 - val_auc: 0.5061\n",
            "Epoch 9/36\n",
            "12/12 [==============================] - 4s 252ms/step - loss: 0.1067 - accuracy: 0.9792 - precision: 1.0000 - recall: 0.9556 - auc: 0.9887 - val_loss: 1.9283 - val_accuracy: 0.4375 - val_precision: 0.5000 - val_recall: 0.4444 - val_auc: 0.4325\n",
            "Epoch 10/36\n",
            "12/12 [==============================] - 6s 379ms/step - loss: 0.1157 - accuracy: 0.9583 - precision: 0.9773 - recall: 0.9348 - auc: 0.9783 - val_loss: 1.7400 - val_accuracy: 0.5000 - val_precision: 0.4286 - val_recall: 0.4286 - val_auc: 0.4782\n",
            "Epoch 11/36\n",
            "12/12 [==============================] - 4s 254ms/step - loss: 0.0859 - accuracy: 0.9688 - precision: 0.9783 - recall: 0.9574 - auc: 0.9989 - val_loss: 1.9391 - val_accuracy: 0.3750 - val_precision: 0.4500 - val_recall: 0.5000 - val_auc: 0.3214\n",
            "Epoch 12/36\n",
            "12/12 [==============================] - 4s 266ms/step - loss: 0.0766 - accuracy: 0.9792 - precision: 1.0000 - recall: 0.9600 - auc: 0.9800 - val_loss: 2.4453 - val_accuracy: 0.3438 - val_precision: 0.3125 - val_recall: 0.3333 - val_auc: 0.3549\n",
            "Epoch 13/36\n",
            "12/12 [==============================] - 5s 400ms/step - loss: 0.0816 - accuracy: 0.9688 - precision: 1.0000 - recall: 0.9362 - auc: 0.9894 - val_loss: 2.2098 - val_accuracy: 0.4688 - val_precision: 0.4118 - val_recall: 0.5000 - val_auc: 0.4563\n",
            "Epoch 14/36\n",
            "12/12 [==============================] - 4s 257ms/step - loss: 0.0821 - accuracy: 0.9792 - precision: 0.9796 - recall: 0.9796 - auc: 0.9991 - val_loss: 2.2107 - val_accuracy: 0.3750 - val_precision: 0.3333 - val_recall: 0.3333 - val_auc: 0.3882\n",
            "Epoch 15/36\n",
            "12/12 [==============================] - 6s 438ms/step - loss: 0.0927 - accuracy: 0.9583 - precision: 0.9630 - recall: 0.9630 - auc: 0.9777 - val_loss: 2.9340 - val_accuracy: 0.3125 - val_precision: 0.3529 - val_recall: 0.3529 - val_auc: 0.3098\n",
            "Epoch 16/36\n",
            "12/12 [==============================] - 4s 243ms/step - loss: 0.0764 - accuracy: 0.9583 - precision: 1.0000 - recall: 0.8974 - auc: 0.9744 - val_loss: 1.9550 - val_accuracy: 0.4688 - val_precision: 0.4500 - val_recall: 0.6000 - val_auc: 0.4431\n",
            "Epoch 17/36\n",
            "12/12 [==============================] - 4s 254ms/step - loss: 0.1176 - accuracy: 0.9583 - precision: 0.9583 - recall: 0.9583 - auc: 0.9874 - val_loss: 2.2293 - val_accuracy: 0.3125 - val_precision: 0.4118 - val_recall: 0.3684 - val_auc: 0.2976\n",
            "Epoch 18/36\n",
            "12/12 [==============================] - 5s 405ms/step - loss: 0.1219 - accuracy: 0.9479 - precision: 0.9800 - recall: 0.9245 - auc: 0.9504 - val_loss: 2.1223 - val_accuracy: 0.4375 - val_precision: 0.4667 - val_recall: 0.4118 - val_auc: 0.4275\n",
            "Epoch 19/36\n",
            "12/12 [==============================] - 4s 247ms/step - loss: 0.0886 - accuracy: 0.9583 - precision: 0.9535 - recall: 0.9535 - auc: 0.9798 - val_loss: 1.8152 - val_accuracy: 0.4375 - val_precision: 0.3889 - val_recall: 0.5000 - val_auc: 0.4583\n",
            "Epoch 20/36\n",
            "12/12 [==============================] - 4s 253ms/step - loss: 0.1702 - accuracy: 0.9167 - precision: 0.9388 - recall: 0.9020 - auc: 0.9255 - val_loss: 1.9436 - val_accuracy: 0.4688 - val_precision: 0.5455 - val_recall: 0.6316 - val_auc: 0.4717\n",
            "Epoch 21/36\n",
            "12/12 [==============================] - 6s 414ms/step - loss: 0.1122 - accuracy: 0.9583 - precision: 0.9783 - recall: 0.9375 - auc: 0.9679 - val_loss: 2.2624 - val_accuracy: 0.3750 - val_precision: 0.2000 - val_recall: 0.2727 - val_auc: 0.3333\n",
            "Epoch 22/36\n",
            "12/12 [==============================] - 4s 264ms/step - loss: 0.1296 - accuracy: 0.9583 - precision: 0.9756 - recall: 0.9302 - auc: 0.9557 - val_loss: 2.0280 - val_accuracy: 0.3750 - val_precision: 0.4000 - val_recall: 0.3529 - val_auc: 0.3882\n",
            "Epoch 23/36\n",
            "12/12 [==============================] - 6s 428ms/step - loss: 0.0869 - accuracy: 0.9583 - precision: 0.9600 - recall: 0.9600 - auc: 0.9678 - val_loss: 1.5747 - val_accuracy: 0.5000 - val_precision: 0.5714 - val_recall: 0.6316 - val_auc: 0.4555\n",
            "Epoch 24/36\n",
            "12/12 [==============================] - 4s 321ms/step - loss: 0.0584 - accuracy: 0.9889 - precision: 1.0000 - recall: 0.9804 - auc: 0.9995 - val_loss: 1.9373 - val_accuracy: 0.4688 - val_precision: 0.3500 - val_recall: 0.6364 - val_auc: 0.5455\n",
            "Epoch 25/36\n",
            "12/12 [==============================] - 4s 244ms/step - loss: 0.0859 - accuracy: 0.9688 - precision: 0.9737 - recall: 0.9487 - auc: 0.9739 - val_loss: 2.8261 - val_accuracy: 0.3438 - val_precision: 0.2667 - val_recall: 0.2857 - val_auc: 0.3175\n",
            "Epoch 26/36\n",
            "12/12 [==============================] - 5s 256ms/step - loss: 0.0798 - accuracy: 0.9896 - precision: 1.0000 - recall: 0.9821 - auc: 0.9906 - val_loss: 2.2657 - val_accuracy: 0.4062 - val_precision: 0.4211 - val_recall: 0.5000 - val_auc: 0.4219\n",
            "Epoch 27/36\n",
            "12/12 [==============================] - 4s 256ms/step - loss: 0.1145 - accuracy: 0.9375 - precision: 0.9722 - recall: 0.8750 - auc: 0.9400 - val_loss: 2.9944 - val_accuracy: 0.3750 - val_precision: 0.4706 - val_recall: 0.4211 - val_auc: 0.3543\n",
            "Epoch 28/36\n",
            "12/12 [==============================] - 5s 376ms/step - loss: 0.0676 - accuracy: 0.9792 - precision: 1.0000 - recall: 0.9592 - auc: 0.9796 - val_loss: 2.3396 - val_accuracy: 0.3438 - val_precision: 0.3333 - val_recall: 0.5000 - val_auc: 0.3829\n",
            "Epoch 29/36\n",
            "12/12 [==============================] - 4s 265ms/step - loss: 0.0394 - accuracy: 1.0000 - precision: 1.0000 - recall: 1.0000 - auc: 1.0000 - val_loss: 1.6248 - val_accuracy: 0.5938 - val_precision: 0.6471 - val_recall: 0.6111 - val_auc: 0.5675\n",
            "Epoch 30/36\n",
            "12/12 [==============================] - 6s 383ms/step - loss: 0.0807 - accuracy: 0.9778 - precision: 1.0000 - recall: 0.9535 - auc: 0.9884 - val_loss: 2.8063 - val_accuracy: 0.2812 - val_precision: 0.4000 - val_recall: 0.4211 - val_auc: 0.2267\n",
            "Epoch 31/36\n",
            "12/12 [==============================] - 4s 253ms/step - loss: 0.0405 - accuracy: 1.0000 - precision: 1.0000 - recall: 1.0000 - auc: 1.0000 - val_loss: 2.5163 - val_accuracy: 0.4062 - val_precision: 0.4444 - val_recall: 0.4706 - val_auc: 0.3843\n",
            "Epoch 32/36\n",
            "12/12 [==============================] - 6s 325ms/step - loss: 0.0567 - accuracy: 0.9792 - precision: 1.0000 - recall: 0.9615 - auc: 0.9808 - val_loss: 2.0387 - val_accuracy: 0.3125 - val_precision: 0.3529 - val_recall: 0.3529 - val_auc: 0.2824\n",
            "Epoch 33/36\n",
            "12/12 [==============================] - 4s 259ms/step - loss: 0.0880 - accuracy: 0.9479 - precision: 0.9600 - recall: 0.9412 - auc: 0.9577 - val_loss: 2.4203 - val_accuracy: 0.3438 - val_precision: 0.4615 - val_recall: 0.3000 - val_auc: 0.3688\n",
            "Epoch 34/36\n",
            "12/12 [==============================] - 4s 267ms/step - loss: 0.0666 - accuracy: 0.9688 - precision: 1.0000 - recall: 0.9483 - auc: 0.9914 - val_loss: 1.9942 - val_accuracy: 0.4062 - val_precision: 0.5625 - val_recall: 0.4286 - val_auc: 0.3983\n",
            "Epoch 35/36\n",
            "12/12 [==============================] - 6s 411ms/step - loss: 0.1173 - accuracy: 0.9688 - precision: 0.9815 - recall: 0.9636 - auc: 0.9858 - val_loss: 2.3187 - val_accuracy: 0.3438 - val_precision: 0.3810 - val_recall: 0.5000 - val_auc: 0.3398\n",
            "Epoch 36/36\n",
            "12/12 [==============================] - 4s 268ms/step - loss: 0.0624 - accuracy: 0.9896 - precision: 1.0000 - recall: 0.9767 - auc: 0.9884 - val_loss: 2.3624 - val_accuracy: 0.3750 - val_precision: 0.4500 - val_recall: 0.5000 - val_auc: 0.3452\n"
          ]
        }
      ]
    },
    {
      "cell_type": "code",
      "source": [
        "img = image.load_img(\"/content/drive/MyDrive/breast_cancer/Breast Cancer Patients MRI's/validation/Healthy/S_66.jpg\",target_size=(224,224))\n",
        "imag = image.img_to_array(img)\n",
        "imaga = np.expand_dims(imag,axis=0)\n",
        "ypred = model.predict(imaga)\n",
        "print(ypred)\n",
        "a=ypred[0]\n",
        "if a<0.5:\n",
        "      op=\"Healthy\"\n",
        "else:\n",
        "      op=\"Cancer\"\n",
        "plt.imshow(img)\n",
        "print(\"THE UPLOADED IMAGE IS SUSPECTED AS: \"+str(op))"
      ],
      "metadata": {
        "colab": {
          "base_uri": "https://localhost:8080/",
          "height": 486
        },
        "id": "Yg2Xh-4TTWtm",
        "outputId": "013ed8c6-9646-4b14-8b0a-75bccc8ff4be"
      },
      "execution_count": 32,
      "outputs": [
        {
          "output_type": "stream",
          "name": "stdout",
          "text": [
            "1/1 [==============================] - 0s 132ms/step\n",
            "[[-0.3301078]]\n",
            "THE UPLOADED IMAGE IS SUSPECTED AS: Healthy\n"
          ]
        },
        {
          "output_type": "display_data",
          "data": {
            "text/plain": [
              "<Figure size 640x480 with 1 Axes>"
            ],
            "image/png": "[encoded data removed]"
          },
          "metadata": {}
        }
      ]
    },
    {
      "cell_type": "code",
      "source": [],
      "metadata": {
        "id": "_ToMUoERYmyn"
      },
      "execution_count": 32,
      "outputs": []
    }
  ]
}